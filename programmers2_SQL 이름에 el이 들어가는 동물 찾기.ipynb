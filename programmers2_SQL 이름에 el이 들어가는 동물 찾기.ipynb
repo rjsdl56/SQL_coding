{
 "cells": [
  {
   "cell_type": "code",
   "execution_count": null,
   "metadata": {},
   "outputs": [],
   "source": [
    "문제 설명\n",
    "ANIMAL_INS 테이블은 동물 보호소에 들어온 동물의 정보를 담은 테이블입니다. ANIMAL_INS 테이블 구조는 다음과 같으며, ANIMAL_ID, ANIMAL_TYPE, DATETIME, INTAKE_CONDITION, NAME, SEX_UPON_INTAKE는 각각 동물의 아이디, 생물 종, 보호 시작일, 보호 시작 시 상태, 이름, 성별 및 중성화 여부를 나타냅니다.\n",
    "\n",
    "NAME\tTYPE\tNULLABLE\n",
    "ANIMAL_ID\tVARCHAR(N)\tFALSE\n",
    "ANIMAL_TYPE\tVARCHAR(N)\tFALSE\n",
    "DATETIME\tDATETIME\tFALSE\n",
    "INTAKE_CONDITION\tVARCHAR(N)\tFALSE\n",
    "NAME\tVARCHAR(N)\tTRUE\n",
    "SEX_UPON_INTAKE\tVARCHAR(N)\tFALSE\n",
    "보호소에 돌아가신 할머니가 기르던 개를 찾는 사람이 찾아왔습니다. 이 사람이 말하길 할머니가 기르던 개는 이름에 'el'이 들어간다고 합니다. 동물 보호소에 들어온 동물 이름 중, 이름에 \"EL\"이 들어가는 개의 아이디와 이름을 조회하는 SQL문을 작성해주세요. 이때 결과는 이름 순으로 조회해주세요. 단, 이름의 대소문자는 구분하지 않습니다.\n",
    "\n",
    "예시\n",
    "예를 들어 ANIMAL_INS 테이블이 다음과 같다면\n",
    "\n",
    "ANIMAL_ID\tANIMAL_TYPE\tDATETIME\tINTAKE_CONDITION\tNAME\tSEX_UPON_INTAKE\n",
    "A355753\tDog\t2015-09-10 13:14:00\tNormal\tElijah\tNeutered Male\n",
    "A352872\tDog\t2015-07-09 17:51:00\tAged\tPeanutbutter\tNeutered Male\n",
    "A353259\tDog\t2016-05-08 12:57:00\tInjured\tBj\tNeutered Male\n",
    "A373219\tCat\t2014-07-29 11:43:00\tNormal\tElla\tSpayed Female\n",
    "A382192\tDog\t2015-03-13 13:14:00\tNormal\tMaxwell 2\tIntact Male\n",
    "이름에 'el'이 들어가는 동물은 Elijah, Ella, Maxwell 2입니다.\n",
    "이 중, 개는 Elijah, Maxwell 2입니다.\n",
    "따라서 SQL문을 실행하면 다음과 같이 나와야 합니다.\n",
    "\n",
    "ANIMAL_ID\tNAME\n",
    "A355753\tElijah\n",
    "A382192\tMaxwell 2\n",
    "\n",
    "# WHERE 절에 조건을 2개 이상 줘야 한다면 AND 로 연결한다."
   ]
  },
  {
   "cell_type": "code",
   "execution_count": null,
   "metadata": {},
   "outputs": [],
   "source": [
    "SELECT ANIMAL_ID, NAME\n",
    "FROM ANIMAL_INS\n",
    "WHERE ANIMAL_TYPE = 'Dog'\n",
    "AND NAME LIKE '%EL%' \n",
    "ORDER BY NAME"
   ]
  }
 ],
 "metadata": {
  "kernelspec": {
   "display_name": "pydatavenv",
   "language": "python",
   "name": "pydatavenv"
  },
  "language_info": {
   "codemirror_mode": {
    "name": "ipython",
    "version": 3
   },
   "file_extension": ".py",
   "mimetype": "text/x-python",
   "name": "python",
   "nbconvert_exporter": "python",
   "pygments_lexer": "ipython3",
   "version": "3.7.9"
  }
 },
 "nbformat": 4,
 "nbformat_minor": 4
}
