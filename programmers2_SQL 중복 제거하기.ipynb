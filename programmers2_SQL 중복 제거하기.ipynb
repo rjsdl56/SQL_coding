{
 "cells": [
  {
   "cell_type": "code",
   "execution_count": null,
   "metadata": {},
   "outputs": [],
   "source": [
    "문제 설명\n",
    "ANIMAL_INS 테이블은 동물 보호소에 들어온 동물의 정보를 담은 테이블입니다. ANIMAL_INS 테이블 구조는 다음과 같으며, ANIMAL_ID, ANIMAL_TYPE, DATETIME, INTAKE_CONDITION, NAME, SEX_UPON_INTAKE는 각각 동물의 아이디, 생물 종, 보호 시작일, 보호 시작 시 상태, 이름, 성별 및 중성화 여부를 나타냅니다.\n",
    "\n",
    "NAME\tTYPE\tNULLABLE\n",
    "ANIMAL_ID\tVARCHAR(N)\tFALSE\n",
    "ANIMAL_TYPE\tVARCHAR(N)\tFALSE\n",
    "DATETIME\tDATETIME\tFALSE\n",
    "INTAKE_CONDITION\tVARCHAR(N)\tFALSE\n",
    "NAME\tVARCHAR(N)\tTRUE\n",
    "SEX_UPON_INTAKE\tVARCHAR(N)\tFALSE\n",
    "동물 보호소에 들어온 동물의 이름은 몇 개인지 조회하는 SQL 문을 작성해주세요. 이때 이름이 NULL인 경우는 집계하지 않으며 중복되는 이름은 하나로 칩니다.\n",
    "\n",
    "예시\n",
    "예를 들어 ANIMAL_INS 테이블이 다음과 같다면\n",
    "\n",
    "ANIMAL_ID\tANIMAL_TYPE\tDATETIME\tINTAKE_CONDITION\tNAME\tSEX_UPON_INTAKE\n",
    "A562649\tDog\t2014-03-20 18:06:00\tSick\tNULL\tSpayed Female\n",
    "A412626\tDog\t2016-03-13 11:17:00\tNormal\t*Sam\tNeutered Male\n",
    "A563492\tDog\t2014-10-24 14:45:00\tNormal\t*Sam\tNeutered Male\n",
    "A513956\tDog\t2017-06-14 11:54:00\tNormal\t*Sweetie\tSpayed Female\n",
    "보호소에 들어온 동물의 이름은 NULL(없음), *Sam, *Sam, *Sweetie입니다. 이 중 NULL과 중복되는 이름을 고려하면, 보호소에 들어온 동물 이름의 수는 2입니다. 따라서 SQL문을 실행하면 다음과 같이 나와야 합니다.\n",
    "\n",
    "count\n",
    "2\n",
    "※ 컬럼 이름(위 예제에서는 count)은 일치하지 않아도 됩니다.\n",
    "\n",
    "# count는 NULL을 계산하지 않는다."
   ]
  },
  {
   "cell_type": "code",
   "execution_count": null,
   "metadata": {},
   "outputs": [],
   "source": [
    "SELECT COUNT(DISTINCT(NAME))\n",
    "FROM ANIMAL_INS\n"
   ]
  },
  {
   "cell_type": "code",
   "execution_count": null,
   "metadata": {},
   "outputs": [],
   "source": []
  }
 ],
 "metadata": {
  "kernelspec": {
   "display_name": "pydatavenv",
   "language": "python",
   "name": "pydatavenv"
  },
  "language_info": {
   "codemirror_mode": {
    "name": "ipython",
    "version": 3
   },
   "file_extension": ".py",
   "mimetype": "text/x-python",
   "name": "python",
   "nbconvert_exporter": "python",
   "pygments_lexer": "ipython3",
   "version": "3.7.9"
  }
 },
 "nbformat": 4,
 "nbformat_minor": 4
}
