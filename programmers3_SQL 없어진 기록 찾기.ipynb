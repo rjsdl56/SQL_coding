{
 "cells": [
  {
   "cell_type": "code",
   "execution_count": null,
   "metadata": {},
   "outputs": [],
   "source": [
    "문제 설명\n",
    "ANIMAL_INS 테이블은 동물 보호소에 들어온 동물의 정보를 담은 테이블입니다. ANIMAL_INS 테이블 구조는 다음과 같으며, ANIMAL_ID, ANIMAL_TYPE, DATETIME, INTAKE_CONDITION, NAME, SEX_UPON_INTAKE는 각각 동물의 아이디, 생물 종, 보호 시작일, 보호 시작 시 상태, 이름, 성별 및 중성화 여부를 나타냅니다.\n",
    "\n",
    "NAME\tTYPE\tNULLABLE\n",
    "ANIMAL_ID\tVARCHAR(N)\tFALSE\n",
    "ANIMAL_TYPE\tVARCHAR(N)\tFALSE\n",
    "DATETIME\tDATETIME\tFALSE\n",
    "INTAKE_CONDITION\tVARCHAR(N)\tFALSE\n",
    "NAME\tVARCHAR(N)\tTRUE\n",
    "SEX_UPON_INTAKE\tVARCHAR(N)\tFALSE\n",
    "ANIMAL_OUTS 테이블은 동물 보호소에서 입양 보낸 동물의 정보를 담은 테이블입니다. ANIMAL_OUTS 테이블 구조는 다음과 같으며, ANIMAL_ID, ANIMAL_TYPE, DATETIME, NAME, SEX_UPON_OUTCOME는 각각 동물의 아이디, 생물 종, 입양일, 이름, 성별 및 중성화 여부를 나타냅니다. ANIMAL_OUTS 테이블의 ANIMAL_ID는 ANIMAL_INS의 ANIMAL_ID의 외래 키입니다.\n",
    "\n",
    "NAME\tTYPE\tNULLABLE\n",
    "ANIMAL_ID\tVARCHAR(N)\tFALSE\n",
    "ANIMAL_TYPE\tVARCHAR(N)\tFALSE\n",
    "DATETIME\tDATETIME\tFALSE\n",
    "NAME\tVARCHAR(N)\tTRUE\n",
    "SEX_UPON_OUTCOME\tVARCHAR(N)\tFALSE\n",
    "천재지변으로 인해 일부 데이터가 유실되었습니다. 입양을 간 기록은 있는데, 보호소에 들어온 기록이 없는 동물의 ID와 이름을 ID 순으로 조회하는 SQL문을 작성해주세요.\n",
    "\n",
    "예시\n",
    "예를 들어, ANIMAL_INS 테이블과 ANIMAL_OUTS 테이블이 다음과 같다면\n",
    "\n",
    "ANIMAL_INS\n",
    "\n",
    "ANIMAL_ID\tANIMAL_TYPE\tDATETIME\tINTAKE_CONDITION\tNAME\tSEX_UPON_INTAKE\n",
    "A352713\tCat\t2017-04-13 16:29:00\tNormal\tGia\tSpayed Female\n",
    "A350375\tCat\t2017-03-06 15:01:00\tNormal\tMeo\tNeutered Male\n",
    "ANIMAL_OUTS\n",
    "\n",
    "ANIMAL_ID\tANIMAL_TYPE\tDATETIME\tNAME\tSEX_UPON_OUTCOME\n",
    "A349733\tDog\t2017-09-27 19:09:00\tAllie\tSpayed Female\n",
    "A352713\tCat\t2017-04-25 12:25:00\tGia\tSpayed Female\n",
    "A349990\tCat\t2018-02-02 14:18:00\tSpice\tSpayed Female\n",
    "ANIMAL_OUTS 테이블에서\n",
    "\n",
    "Allie의 ID는 ANIMAL_INS에 없으므로, Allie의 데이터는 유실되었습니다.\n",
    "Gia의 ID는 ANIMAL_INS에 있으므로, Gia의 데이터는 유실되지 않았습니다.\n",
    "Spice의 ID는 ANIMAL_INS에 없으므로, Spice의 데이터는 유실되었습니다.\n",
    "따라서 SQL문을 실행하면 다음과 같이 나와야 합니다.\n",
    "\n",
    "ANIMAL_ID\tNAME\n",
    "A349733\tAllie\n",
    "A349990\tSpice"
   ]
  },
  {
   "cell_type": "code",
   "execution_count": null,
   "metadata": {},
   "outputs": [],
   "source": [
    "SELECT OUTS.ANIMAL_ID, OUTS.NAME\n",
    "FROM ANIMAL_OUTS AS OUTS\n",
    "LEFT OUTER \n",
    "JOIN ANIMAL_INS AS INS\n",
    "ON OUTS.ANIMAL_ID = INS.ANIMAL_ID\n",
    "WHERE INS.ANIMAL_ID IS NULL"
   ]
  }
 ],
 "metadata": {
  "kernelspec": {
   "display_name": "pydatavenv",
   "language": "python",
   "name": "pydatavenv"
  },
  "language_info": {
   "codemirror_mode": {
    "name": "ipython",
    "version": 3
   },
   "file_extension": ".py",
   "mimetype": "text/x-python",
   "name": "python",
   "nbconvert_exporter": "python",
   "pygments_lexer": "ipython3",
   "version": "3.7.9"
  }
 },
 "nbformat": 4,
 "nbformat_minor": 4
}
