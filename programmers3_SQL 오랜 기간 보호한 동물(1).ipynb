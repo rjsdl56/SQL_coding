{
 "cells": [
  {
   "cell_type": "code",
   "execution_count": null,
   "metadata": {},
   "outputs": [],
   "source": [
    "문제 설명\n",
    "ANIMAL_INS 테이블은 동물 보호소에 들어온 동물의 정보를 담은 테이블입니다. ANIMAL_INS 테이블 구조는 다음과 같으며, ANIMAL_ID, ANIMAL_TYPE, DATETIME, INTAKE_CONDITION, NAME, SEX_UPON_INTAKE는 각각 동물의 아이디, 생물 종, 보호 시작일, 보호 시작 시 상태, 이름, 성별 및 중성화 여부를 나타냅니다.\n",
    "\n",
    "NAME\tTYPE\tNULLABLE\n",
    "ANIMAL_ID\tVARCHAR(N)\tFALSE\n",
    "ANIMAL_TYPE\tVARCHAR(N)\tFALSE\n",
    "DATETIME\tDATETIME\tFALSE\n",
    "INTAKE_CONDITION\tVARCHAR(N)\tFALSE\n",
    "NAME\tVARCHAR(N)\tTRUE\n",
    "SEX_UPON_INTAKE\tVARCHAR(N)\tFALSE\n",
    "ANIMAL_OUTS 테이블은 동물 보호소에서 입양 보낸 동물의 정보를 담은 테이블입니다. ANIMAL_OUTS 테이블 구조는 다음과 같으며, ANIMAL_ID, ANIMAL_TYPE, DATETIME, NAME, SEX_UPON_OUTCOME는 각각 동물의 아이디, 생물 종, 입양일, 이름, 성별 및 중성화 여부를 나타냅니다. ANIMAL_OUTS 테이블의 ANIMAL_ID는 ANIMAL_INS의 ANIMAL_ID의 외래 키입니다.\n",
    "\n",
    "NAME\tTYPE\tNULLABLE\n",
    "ANIMAL_ID\tVARCHAR(N)\tFALSE\n",
    "ANIMAL_TYPE\tVARCHAR(N)\tFALSE\n",
    "DATETIME\tDATETIME\tFALSE\n",
    "NAME\tVARCHAR(N)\tTRUE\n",
    "SEX_UPON_OUTCOME\tVARCHAR(N)\tFALSE\n",
    "아직 입양을 못 간 동물 중, 가장 오래 보호소에 있었던 동물 3마리의 이름과 보호 시작일을 조회하는 SQL문을 작성해주세요. 이때 결과는 보호 시작일 순으로 조회해야 합니다.\n",
    "\n",
    "예시\n",
    "예를 들어, ANIMAL_INS 테이블과 ANIMAL_OUTS 테이블이 다음과 같다면\n",
    "\n",
    "ANIMAL_INS\n",
    "\n",
    "ANIMAL_ID\tANIMAL_TYPE\tDATETIME\tINTAKE_CONDITION\tNAME\tSEX_UPON_INTAKE\n",
    "A354597\tCat\t2014-05-02 12:16:00\tNormal\tAriel\tSpayed Female\n",
    "A373687\tDog\t2014-03-20 12:31:00\tNormal\tRosie\tSpayed Female\n",
    "A412697\tDog\t2016-01-03 16:25:00\tNormal\tJackie\tNeutered Male\n",
    "A413789\tDog\t2016-04-19 13:28:00\tNormal\tBenji\tSpayed Female\n",
    "A414198\tDog\t2015-01-29 15:01:00\tNormal\tShelly\tSpayed Female\n",
    "A368930\tDog\t2014-06-08 13:20:00\tNormal\t\tSpayed Female\n",
    "ANIMAL_OUTS\n",
    "\n",
    "ANIMAL_ID\tANIMAL_TYPE\tDATETIME\tNAME\tSEX_UPON_OUTCOME\n",
    "A354597\tCat\t2014-05-02 12:16:00\tAriel\tSpayed Female\n",
    "A373687\tDog\t2014-03-20 12:31:00\tRosie\tSpayed Female\n",
    "A368930\tDog\t2014-06-13 15:52:00\t\tSpayed Female\n",
    "SQL문을 실행하면 다음과 같이 나와야 합니다.\n",
    "\n",
    "NAME\tDATETIME\n",
    "Shelly\t2015-01-29 15:01:00\n",
    "Jackie\t2016-01-03 16:25:00\n",
    "Benji\t2016-04-19 13:28:00\n",
    "※ 입양을 가지 못한 동물이 3마리 이상인 경우만 입력으로 주어집니다."
   ]
  },
  {
   "cell_type": "code",
   "execution_count": null,
   "metadata": {},
   "outputs": [],
   "source": [
    "SELECT NAME, DATETIME\n",
    "FROM ANIMAL_INS\n",
    "WHERE ANIMAL_ID NOT IN (SELECT ANIMAL_ID FROM ANIMAL_OUTS)\n",
    "ORDER BY DATETIME \n",
    "LIMIT 3"
   ]
  }
 ],
 "metadata": {
  "kernelspec": {
   "display_name": "pydatavenv",
   "language": "python",
   "name": "pydatavenv"
  },
  "language_info": {
   "codemirror_mode": {
    "name": "ipython",
    "version": 3
   },
   "file_extension": ".py",
   "mimetype": "text/x-python",
   "name": "python",
   "nbconvert_exporter": "python",
   "pygments_lexer": "ipython3",
   "version": "3.7.9"
  }
 },
 "nbformat": 4,
 "nbformat_minor": 4
}
