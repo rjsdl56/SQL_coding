{
 "cells": [
  {
   "cell_type": "code",
   "execution_count": null,
   "metadata": {},
   "outputs": [],
   "source": [
    "문제 설명\n",
    "PLACES 테이블은 공간 임대 서비스에 등록된 공간의 정보를 담은 테이블입니다. PLACES 테이블의 구조는 다음과 같으며 ID, NAME, HOST_ID는 각각 공간의 아이디, 이름, 공간을 소유한 유저의 아이디를 나타냅니다. ID는 기본키입니다.\n",
    "\n",
    "NAME\tTYPE\n",
    "ID\tINT\n",
    "NAME\tVARCHAR\n",
    "HOST_ID\tINT\n",
    "문제\n",
    "이 서비스에서는 공간을 둘 이상 등록한 사람을 \"헤비 유저\"라고 부릅니다. 헤비 유저가 등록한 공간의 정보를 아이디 순으로 조회하는 SQL문을 작성해주세요.\n",
    "\n",
    "예시\n",
    "예를 들어, PLACES 테이블이 다음과 같다면\n",
    "\n",
    "ID\tNAME\tHOST_ID\n",
    "4431977\tBOUTIQUE STAYS - Somerset Terrace, Pet Friendly\t760849\n",
    "5194998\tBOUTIQUE STAYS - Elwood Beaches 3, Pet Friendly\t760849\n",
    "16045624\tUrban Jungle in the Heart of Melbourne\t30900122\n",
    "17810814\tStylish Bayside Retreat with a Luscious Garden\t760849\n",
    "22740286\tFREE PARKING - The Velvet Lux in Melbourne CBD\t30900122\n",
    "22868779\t★ Fresh Fitzroy Pad with City Views! ★\t21058208\n",
    "760849번 유저는 공간을 3개 등록했으므로 이 유저는 헤비유저입니다.\n",
    "30900122번 유저는 공간을 2개 등록했으므로 이 유저는 헤비유저입니다.\n",
    "21058208번 유저는 공간을 1개 등록했으므로 이 유저는 헤비유저가 아닙니다.\n",
    "따라서 SQL 문을 실행하면 다음과 같이 나와야 합니다.\n",
    "\n",
    "ID\tNAME\tHOST_ID\n",
    "4431977\tBOUTIQUE STAYS - Somerset Terrace, Pet Friendly\t760849\n",
    "5194998\tBOUTIQUE STAYS - Elwood Beaches 3, Pet Friendly\t760849\n",
    "16045624\tUrban Jungle in the Heart of Melbourne\t30900122\n",
    "17810814\tStylish Bayside Retreat with a Luscious Garden\t760849\n",
    "22740286\tFREE PARKING - The Velvet Lux in Melbourne CBD\t30900122"
   ]
  },
  {
   "cell_type": "code",
   "execution_count": null,
   "metadata": {},
   "outputs": [],
   "source": [
    "SELECT *\n",
    "FROM PLACES\n",
    "WHERE HOST_ID IN (\n",
    "    SELECT HOST_ID FROM PLACES\n",
    "    GROUP BY HOST_ID HAVING COUNT(ID)>1)\n",
    "ORDER BY ID"
   ]
  }
 ],
 "metadata": {
  "kernelspec": {
   "display_name": "pydatavenv",
   "language": "python",
   "name": "pydatavenv"
  },
  "language_info": {
   "codemirror_mode": {
    "name": "ipython",
    "version": 3
   },
   "file_extension": ".py",
   "mimetype": "text/x-python",
   "name": "python",
   "nbconvert_exporter": "python",
   "pygments_lexer": "ipython3",
   "version": "3.7.9"
  }
 },
 "nbformat": 4,
 "nbformat_minor": 4
}
