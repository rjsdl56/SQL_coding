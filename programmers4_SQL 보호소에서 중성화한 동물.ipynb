{
 "cells": [
  {
   "cell_type": "code",
   "execution_count": null,
   "metadata": {},
   "outputs": [],
   "source": [
    "문제 설명\n",
    "ANIMAL_INS 테이블은 동물 보호소에 들어온 동물의 정보를 담은 테이블입니다. ANIMAL_INS 테이블 구조는 다음과 같으며, ANIMAL_ID, ANIMAL_TYPE, DATETIME, INTAKE_CONDITION, NAME, SEX_UPON_INTAKE는 각각 동물의 아이디, 생물 종, 보호 시작일, 보호 시작 시 상태, 이름, 성별 및 중성화 여부를 나타냅니다.\n",
    "\n",
    "NAME\tTYPE\tNULLABLE\n",
    "ANIMAL_ID\tVARCHAR(N)\tFALSE\n",
    "ANIMAL_TYPE\tVARCHAR(N)\tFALSE\n",
    "DATETIME\tDATETIME\tFALSE\n",
    "INTAKE_CONDITION\tVARCHAR(N)\tFALSE\n",
    "NAME\tVARCHAR(N)\tTRUE\n",
    "SEX_UPON_INTAKE\tVARCHAR(N)\tFALSE\n",
    "ANIMAL_OUTS 테이블은 동물 보호소에서 입양 보낸 동물의 정보를 담은 테이블입니다. ANIMAL_OUTS 테이블 구조는 다음과 같으며, ANIMAL_ID, ANIMAL_TYPE, DATETIME, NAME, SEX_UPON_OUTCOME는 각각 동물의 아이디, 생물 종, 입양일, 이름, 성별 및 중성화 여부를 나타냅니다. ANIMAL_OUTS 테이블의 ANIMAL_ID는 ANIMAL_INS의 ANIMAL_ID의 외래 키입니다.\n",
    "\n",
    "NAME\tTYPE\tNULLABLE\n",
    "ANIMAL_ID\tVARCHAR(N)\tFALSE\n",
    "ANIMAL_TYPE\tVARCHAR(N)\tFALSE\n",
    "DATETIME\tDATETIME\tFALSE\n",
    "NAME\tVARCHAR(N)\tTRUE\n",
    "SEX_UPON_OUTCOME\tVARCHAR(N)\tFALSE\n",
    "보호소에서 중성화 수술을 거친 동물 정보를 알아보려 합니다. 보호소에 들어올 당시에는 중성화1되지 않았지만, 보호소를 나갈 당시에는 중성화된 동물의 아이디와 생물 종, 이름을 조회하는 아이디 순으로 조회하는 SQL 문을 작성해주세요.\n",
    "\n",
    "예시\n",
    "예를 들어, ANIMAL_INS 테이블과 ANIMAL_OUTS 테이블이 다음과 같다면\n",
    "\n",
    "ANIMAL_INS\n",
    "\n",
    "ANIMAL_ID\tANIMAL_TYPE\tDATETIME\tINTAKE_CONDITION\tNAME\tSEX_UPON_INTAKE\n",
    "A367438\tDog\t2015-09-10 16:01:00\tNormal\tCookie\tSpayed Female\n",
    "A382192\tDog\t2015-03-13 13:14:00\tNormal\tMaxwell 2\tIntact Male\n",
    "A405494\tDog\t2014-05-16 14:17:00\tNormal\tKaila\tSpayed Female\n",
    "A410330\tDog\t2016-09-11 14:09:00\tSick\tChewy\tIntact Female\n",
    "ANIMAL_OUTS\n",
    "\n",
    "ANIMAL_ID\tANIMAL_TYPE\tDATETIME\tNAME\tSEX_UPON_OUTCOME\n",
    "A367438\tDog\t2015-09-12 13:30:00\tCookie\tSpayed Female\n",
    "A382192\tDog\t2015-03-16 13:46:00\tMaxwell 2\tNeutered Male\n",
    "A405494\tDog\t2014-05-20 11:44:00\tKaila\tSpayed Female\n",
    "A410330\tDog\t2016-09-13 13:46:00\tChewy\tSpayed Female\n",
    "Cookie는 보호소에 들어올 당시에 이미 중성화되어있었습니다.\n",
    "Maxwell 2는 보호소에 들어온 후 중성화되었습니다.\n",
    "Kaila는 보호소에 들어올 당시에 이미 중성화되어있었습니다.\n",
    "Chewy는 보호소에 들어온 후 중성화되었습니다.\n",
    "따라서 SQL문을 실행하면 다음과 같이 나와야 합니다.\n",
    "\n",
    "ANIMAL_ID\tANIMAL_TYPE\tNAME\n",
    "A382192\tDog\tMaxwell 2\n",
    "A410330\tDog\tChewy\n",
    "본 문제는 Kaggle의 \"Austin Animal Center Shelter Intakes and Outcomes\"에서 제공하는 데이터를 사용하였으며 ODbL의 적용을 받습니다.\n",
    "\n",
    "중성화를 거치지 않은 동물은 성별 및 중성화 여부에 Intact, 중성화를 거친 동물은 Spayed 또는 Neutered라고 표시되어있습니다. ↩"
   ]
  },
  {
   "cell_type": "code",
   "execution_count": null,
   "metadata": {},
   "outputs": [],
   "source": [
    "SELECT INS.ANIMAL_ID, INS.ANIMAL_TYPE, INS.NAME \n",
    "FROM ANIMAL_INS as INS \n",
    "INNER JOIN ANIMAL_OUTS AS OUTS \n",
    "ON INS.ANIMAL_ID = OUTS.ANIMAL_ID\n",
    "WHERE INS.SEX_UPON_INTAKE != OUTS.SEX_UPON_OUTCOME\n",
    "AND INS.SEX_UPON_INTAKE NOT LIKE 'Intact'\n",
    "ORDER BY INS.ANIMAL_ID"
   ]
  }
 ],
 "metadata": {
  "kernelspec": {
   "display_name": "pydatavenv",
   "language": "python",
   "name": "pydatavenv"
  },
  "language_info": {
   "codemirror_mode": {
    "name": "ipython",
    "version": 3
   },
   "file_extension": ".py",
   "mimetype": "text/x-python",
   "name": "python",
   "nbconvert_exporter": "python",
   "pygments_lexer": "ipython3",
   "version": "3.7.9"
  }
 },
 "nbformat": 4,
 "nbformat_minor": 4
}
