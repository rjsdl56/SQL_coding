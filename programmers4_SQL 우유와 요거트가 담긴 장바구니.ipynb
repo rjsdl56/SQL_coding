{
 "cells": [
  {
   "cell_type": "code",
   "execution_count": null,
   "metadata": {},
   "outputs": [],
   "source": [
    "문제 설명\n",
    "CART_PRODUCTS 테이블은 장바구니에 담긴 상품 정보를 담은 테이블입니다. CART_PRODUCTS 테이블의 구조는 다음과 같으며, ID, CART_ID, NAME, PRICE는 각각 테이블의 아이디, 장바구니의 아이디, 상품 종류, 가격을 나타냅니다.\n",
    "\n",
    "NAME\tTYPE\n",
    "ID\tINT\n",
    "CART_ID\tINT\n",
    "NAME\tVARCHAR\n",
    "PRICE\tINT\n",
    "데이터 분석 팀에서는 우유(Milk)와 요거트(Yogurt)를 동시에 구입한 장바구니가 있는지 알아보려 합니다. 우유와 요거트를 동시에 구입한 장바구니의 아이디를 조회하는 SQL 문을 작성해주세요. 이때 결과는 장바구니의 아이디 순으로 나와야 합니다.\n",
    "\n",
    "예시\n",
    "예를 들어 CART_PRODUCTS 테이블이 다음과 같다면\n",
    "\n",
    "CART_PRODUCTS 테이블\n",
    "\n",
    "ID\tCART_ID\tNAME\tPRICE\n",
    "1630\t83\tCereal\t3980\n",
    "1631\t83\tMultipurpose Supply\t3900\n",
    "5491\t286\tYogurt\t2980\n",
    "5504\t286\tMilk\t1880\n",
    "8435\t448\tMilk\t1880\n",
    "8437\t448\tYogurt\t2980\n",
    "8438\t448\tTea\t11000\n",
    "20236\t1034\tYogurt\t2980\n",
    "20237\t1034\tButter\t4890\n",
    "83번 장바구니에는 Milk와 Yogurt가 모두 없습니다.\n",
    "286번 장바구니에는 Milk와 Yogurt가 모두 있습니다.\n",
    "448번 장바구니에는 Milk와 Yogurt가 모두 있습니다.\n",
    "1034번 장바구니에는 Milk는 없고 Yogurt만 있습니다.\n",
    "따라서 SQL 문을 실행하면 다음과 같이 나와야 합니다.\n",
    "\n",
    "CART_ID\n",
    "286\n",
    "448"
   ]
  },
  {
   "cell_type": "code",
   "execution_count": null,
   "metadata": {},
   "outputs": [],
   "source": [
    "SELECT CART_ID\n",
    "FROM CART_PRODUCTS \n",
    "WHERE NAME LIKE('%Milk%') AND CART_ID IN (SELECT CART_ID FROM CART_PRODUCTS WHERE NAME LIKE(\"%Yogurt%\"))\n",
    "ORDER BY CART_ID"
   ]
  }
 ],
 "metadata": {
  "kernelspec": {
   "display_name": "pydatavenv",
   "language": "python",
   "name": "pydatavenv"
  },
  "language_info": {
   "codemirror_mode": {
    "name": "ipython",
    "version": 3
   },
   "file_extension": ".py",
   "mimetype": "text/x-python",
   "name": "python",
   "nbconvert_exporter": "python",
   "pygments_lexer": "ipython3",
   "version": "3.7.9"
  }
 },
 "nbformat": 4,
 "nbformat_minor": 4
}
