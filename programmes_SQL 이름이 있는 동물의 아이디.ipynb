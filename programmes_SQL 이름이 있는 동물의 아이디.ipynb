{
 "cells": [
  {
   "cell_type": "code",
   "execution_count": null,
   "metadata": {},
   "outputs": [],
   "source": [
    "문제 설명\n",
    "ANIMAL_INS 테이블은 동물 보호소에 들어온 동물의 정보를 담은 테이블입니다. ANIMAL_INS 테이블 구조는 다음과 같으며, ANIMAL_ID, ANIMAL_TYPE, DATETIME, INTAKE_CONDITION, NAME, SEX_UPON_INTAKE는 각각 동물의 아이디, 생물 종, 보호 시작일, 보호 시작 시 상태, 이름, 성별 및 중성화 여부를 나타냅니다.\n",
    "\n",
    "NAME\tTYPE\tNULLABLE\n",
    "ANIMAL_ID\tVARCHAR(N)\tFALSE\n",
    "ANIMAL_TYPE\tVARCHAR(N)\tFALSE\n",
    "DATETIME\tDATETIME\tFALSE\n",
    "INTAKE_CONDITION\tVARCHAR(N)\tFALSE\n",
    "NAME\tVARCHAR(N)\tTRUE\n",
    "SEX_UPON_INTAKE\tVARCHAR(N)\tFALSE\n",
    "동물 보호소에 들어온 동물 중, 이름이 있는 동물의 ID를 조회하는 SQL 문을 작성해주세요. 단, ID는 오름차순 정렬되어야 합니다.\n",
    "\n",
    "예시\n",
    "예를 들어 ANIMAL_INS 테이블이 다음과 같다면\n",
    "\n",
    "ANIMAL_ID\tANIMAL_TYPE\tDATETIME\tINTAKE_CONDITION\tNAME\tSEX_UPON_INTAKE\n",
    "A434523\tCat\t2015-11-20 14:18:00\tNormal\tNULL\tSpayed Female\n",
    "A562649\tDog\t2014-03-20 18:06:00\tSick\tNULL\tSpayed Female\n",
    "A524634\tDog\t2015-01-02 18:54:00\tNormal\t*Belle\tIntact Female\n",
    "A465637\tDog\t2017-06-04 08:17:00\tInjured\t*Commander\tNeutered Male\n",
    "이름이 있는 동물의 ID는 A524634와 A465637입니다. 따라서 SQL을 실행하면 다음과 같이 출력되어야 합니다.\n",
    "\n",
    "ANIMAL_ID\n",
    "A465637\n",
    "A524634"
   ]
  },
  {
   "cell_type": "code",
   "execution_count": null,
   "metadata": {},
   "outputs": [],
   "source": [
    "SELECT ANIMAL_ID\n",
    "FROM ANIMAL_INS\n",
    "WHERE NAME IS NOT NULL"
   ]
  }
 ],
 "metadata": {
  "kernelspec": {
   "display_name": "pydatavenv",
   "language": "python",
   "name": "pydatavenv"
  },
  "language_info": {
   "codemirror_mode": {
    "name": "ipython",
    "version": 3
   },
   "file_extension": ".py",
   "mimetype": "text/x-python",
   "name": "python",
   "nbconvert_exporter": "python",
   "pygments_lexer": "ipython3",
   "version": "3.7.9"
  }
 },
 "nbformat": 4,
 "nbformat_minor": 4
}
